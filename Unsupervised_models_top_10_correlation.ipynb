{
 "cells": [
  {
   "cell_type": "markdown",
   "id": "c7b599fd",
   "metadata": {},
   "source": [
    "# Import Libraries "
   ]
  },
  {
   "cell_type": "code",
   "execution_count": 101,
   "id": "83a1f00c",
   "metadata": {},
   "outputs": [],
   "source": [
    "from sklearn.ensemble import IsolationForest\n",
    "from sklearn.neighbors import LocalOutlierFactor\n",
    "from sklearn.model_selection import train_test_split,GridSearchCV\n",
    "from sklearn.svm import OneClassSVM\n",
    "from sklearn.metrics import accuracy_score, confusion_matrix, precision_score, recall_score, classification_report, f1_score\n",
    "from sklearn.preprocessing import StandardScaler\n",
    "import pandas as pd\n",
    "import numpy as np \n",
    "import seaborn as sns"
   ]
  },
  {
   "cell_type": "markdown",
   "id": "98b927df",
   "metadata": {},
   "source": [
    "# Load Dataset"
   ]
  },
  {
   "cell_type": "code",
   "execution_count": 102,
   "id": "b2f7b496",
   "metadata": {},
   "outputs": [],
   "source": [
    "dataset = pd.read_csv(\"Malware_Dataset.csv\")"
   ]
  },
  {
   "cell_type": "code",
   "execution_count": 103,
   "id": "2a6236a5",
   "metadata": {},
   "outputs": [
    {
     "data": {
      "text/html": [
       "<div>\n",
       "<style scoped>\n",
       "    .dataframe tbody tr th:only-of-type {\n",
       "        vertical-align: middle;\n",
       "    }\n",
       "\n",
       "    .dataframe tbody tr th {\n",
       "        vertical-align: top;\n",
       "    }\n",
       "\n",
       "    .dataframe thead th {\n",
       "        text-align: right;\n",
       "    }\n",
       "</style>\n",
       "<table border=\"1\" class=\"dataframe\">\n",
       "  <thead>\n",
       "    <tr style=\"text-align: right;\">\n",
       "      <th></th>\n",
       "      <th>Category</th>\n",
       "      <th>pslist.nproc</th>\n",
       "      <th>pslist.nppid</th>\n",
       "      <th>pslist.avg_threads</th>\n",
       "      <th>pslist.nprocs64bit</th>\n",
       "      <th>pslist.avg_handlers</th>\n",
       "      <th>dlllist.ndlls</th>\n",
       "      <th>dlllist.avg_dlls_per_proc</th>\n",
       "      <th>handles.nhandles</th>\n",
       "      <th>handles.avg_handles_per_proc</th>\n",
       "      <th>...</th>\n",
       "      <th>svcscan.kernel_drivers</th>\n",
       "      <th>svcscan.fs_drivers</th>\n",
       "      <th>svcscan.process_services</th>\n",
       "      <th>svcscan.shared_process_services</th>\n",
       "      <th>svcscan.interactive_process_services</th>\n",
       "      <th>svcscan.nactive</th>\n",
       "      <th>callbacks.ncallbacks</th>\n",
       "      <th>callbacks.nanonymous</th>\n",
       "      <th>callbacks.ngeneric</th>\n",
       "      <th>Class</th>\n",
       "    </tr>\n",
       "  </thead>\n",
       "  <tbody>\n",
       "    <tr>\n",
       "      <th>0</th>\n",
       "      <td>Benign</td>\n",
       "      <td>45</td>\n",
       "      <td>17</td>\n",
       "      <td>10.555556</td>\n",
       "      <td>0</td>\n",
       "      <td>202.844444</td>\n",
       "      <td>1694</td>\n",
       "      <td>38.500000</td>\n",
       "      <td>9129</td>\n",
       "      <td>212.302326</td>\n",
       "      <td>...</td>\n",
       "      <td>221</td>\n",
       "      <td>26</td>\n",
       "      <td>24</td>\n",
       "      <td>116</td>\n",
       "      <td>0</td>\n",
       "      <td>121</td>\n",
       "      <td>87</td>\n",
       "      <td>0</td>\n",
       "      <td>8</td>\n",
       "      <td>Benign</td>\n",
       "    </tr>\n",
       "    <tr>\n",
       "      <th>1</th>\n",
       "      <td>Benign</td>\n",
       "      <td>47</td>\n",
       "      <td>19</td>\n",
       "      <td>11.531915</td>\n",
       "      <td>0</td>\n",
       "      <td>242.234043</td>\n",
       "      <td>2074</td>\n",
       "      <td>44.127660</td>\n",
       "      <td>11385</td>\n",
       "      <td>242.234043</td>\n",
       "      <td>...</td>\n",
       "      <td>222</td>\n",
       "      <td>26</td>\n",
       "      <td>24</td>\n",
       "      <td>118</td>\n",
       "      <td>0</td>\n",
       "      <td>122</td>\n",
       "      <td>87</td>\n",
       "      <td>0</td>\n",
       "      <td>8</td>\n",
       "      <td>Benign</td>\n",
       "    </tr>\n",
       "    <tr>\n",
       "      <th>2</th>\n",
       "      <td>Benign</td>\n",
       "      <td>40</td>\n",
       "      <td>14</td>\n",
       "      <td>14.725000</td>\n",
       "      <td>0</td>\n",
       "      <td>288.225000</td>\n",
       "      <td>1932</td>\n",
       "      <td>48.300000</td>\n",
       "      <td>11529</td>\n",
       "      <td>288.225000</td>\n",
       "      <td>...</td>\n",
       "      <td>222</td>\n",
       "      <td>26</td>\n",
       "      <td>27</td>\n",
       "      <td>118</td>\n",
       "      <td>0</td>\n",
       "      <td>120</td>\n",
       "      <td>88</td>\n",
       "      <td>0</td>\n",
       "      <td>8</td>\n",
       "      <td>Benign</td>\n",
       "    </tr>\n",
       "    <tr>\n",
       "      <th>3</th>\n",
       "      <td>Benign</td>\n",
       "      <td>32</td>\n",
       "      <td>13</td>\n",
       "      <td>13.500000</td>\n",
       "      <td>0</td>\n",
       "      <td>264.281250</td>\n",
       "      <td>1445</td>\n",
       "      <td>45.156250</td>\n",
       "      <td>8457</td>\n",
       "      <td>264.281250</td>\n",
       "      <td>...</td>\n",
       "      <td>222</td>\n",
       "      <td>26</td>\n",
       "      <td>27</td>\n",
       "      <td>118</td>\n",
       "      <td>0</td>\n",
       "      <td>120</td>\n",
       "      <td>88</td>\n",
       "      <td>0</td>\n",
       "      <td>8</td>\n",
       "      <td>Benign</td>\n",
       "    </tr>\n",
       "    <tr>\n",
       "      <th>4</th>\n",
       "      <td>Benign</td>\n",
       "      <td>42</td>\n",
       "      <td>16</td>\n",
       "      <td>11.452381</td>\n",
       "      <td>0</td>\n",
       "      <td>281.333333</td>\n",
       "      <td>2067</td>\n",
       "      <td>49.214286</td>\n",
       "      <td>11816</td>\n",
       "      <td>281.333333</td>\n",
       "      <td>...</td>\n",
       "      <td>222</td>\n",
       "      <td>26</td>\n",
       "      <td>24</td>\n",
       "      <td>118</td>\n",
       "      <td>0</td>\n",
       "      <td>124</td>\n",
       "      <td>87</td>\n",
       "      <td>0</td>\n",
       "      <td>8</td>\n",
       "      <td>Benign</td>\n",
       "    </tr>\n",
       "  </tbody>\n",
       "</table>\n",
       "<p>5 rows × 57 columns</p>\n",
       "</div>"
      ],
      "text/plain": [
       "  Category  pslist.nproc  pslist.nppid  pslist.avg_threads  \\\n",
       "0   Benign            45            17           10.555556   \n",
       "1   Benign            47            19           11.531915   \n",
       "2   Benign            40            14           14.725000   \n",
       "3   Benign            32            13           13.500000   \n",
       "4   Benign            42            16           11.452381   \n",
       "\n",
       "   pslist.nprocs64bit  pslist.avg_handlers  dlllist.ndlls  \\\n",
       "0                   0           202.844444           1694   \n",
       "1                   0           242.234043           2074   \n",
       "2                   0           288.225000           1932   \n",
       "3                   0           264.281250           1445   \n",
       "4                   0           281.333333           2067   \n",
       "\n",
       "   dlllist.avg_dlls_per_proc  handles.nhandles  handles.avg_handles_per_proc  \\\n",
       "0                  38.500000              9129                    212.302326   \n",
       "1                  44.127660             11385                    242.234043   \n",
       "2                  48.300000             11529                    288.225000   \n",
       "3                  45.156250              8457                    264.281250   \n",
       "4                  49.214286             11816                    281.333333   \n",
       "\n",
       "   ...  svcscan.kernel_drivers  svcscan.fs_drivers  svcscan.process_services  \\\n",
       "0  ...                     221                  26                        24   \n",
       "1  ...                     222                  26                        24   \n",
       "2  ...                     222                  26                        27   \n",
       "3  ...                     222                  26                        27   \n",
       "4  ...                     222                  26                        24   \n",
       "\n",
       "   svcscan.shared_process_services  svcscan.interactive_process_services  \\\n",
       "0                              116                                     0   \n",
       "1                              118                                     0   \n",
       "2                              118                                     0   \n",
       "3                              118                                     0   \n",
       "4                              118                                     0   \n",
       "\n",
       "   svcscan.nactive  callbacks.ncallbacks  callbacks.nanonymous  \\\n",
       "0              121                    87                     0   \n",
       "1              122                    87                     0   \n",
       "2              120                    88                     0   \n",
       "3              120                    88                     0   \n",
       "4              124                    87                     0   \n",
       "\n",
       "   callbacks.ngeneric   Class  \n",
       "0                   8  Benign  \n",
       "1                   8  Benign  \n",
       "2                   8  Benign  \n",
       "3                   8  Benign  \n",
       "4                   8  Benign  \n",
       "\n",
       "[5 rows x 57 columns]"
      ]
     },
     "execution_count": 103,
     "metadata": {},
     "output_type": "execute_result"
    }
   ],
   "source": [
    "dataset.head()"
   ]
  },
  {
   "cell_type": "markdown",
   "id": "bbbce2b8",
   "metadata": {},
   "source": [
    "# Prepare Dataset"
   ]
  },
  {
   "cell_type": "code",
   "execution_count": 104,
   "id": "dc58f63e",
   "metadata": {},
   "outputs": [],
   "source": [
    "## Drop Category, not needed. "
   ]
  },
  {
   "cell_type": "code",
   "execution_count": 105,
   "id": "1642c659",
   "metadata": {},
   "outputs": [],
   "source": [
    "df = dataset.drop(['Category'], axis=1)"
   ]
  },
  {
   "cell_type": "code",
   "execution_count": 106,
   "id": "2bfdac76",
   "metadata": {},
   "outputs": [],
   "source": [
    "## make class 0 and 1 instead of malware and benign \n",
    "## malware = 1\n",
    "## Bennign = 0 \n"
   ]
  },
  {
   "cell_type": "code",
   "execution_count": 107,
   "id": "701e80df",
   "metadata": {},
   "outputs": [],
   "source": [
    "df['Class'] = df['Class'].replace(['Malware', 'Benign'], [1, 0]) "
   ]
  },
  {
   "cell_type": "code",
   "execution_count": 108,
   "id": "bc9ab8e4",
   "metadata": {},
   "outputs": [],
   "source": [
    "data = pd.DataFrame()"
   ]
  },
  {
   "cell_type": "code",
   "execution_count": 109,
   "id": "326ff1bb",
   "metadata": {},
   "outputs": [],
   "source": [
    "top_10_features_correlation_analysis = pd.DataFrame()"
   ]
  },
  {
   "cell_type": "code",
   "execution_count": 110,
   "id": "12a9e7f4",
   "metadata": {},
   "outputs": [],
   "source": [
    "## Creating a dataset with only the top 10 features chosen by corelation analysis, \n",
    "## Feature importance analysis was done in the \"Data visualizations\" the features were copied over, because it is more efficient\n",
    "## than running correlation analysis on each notebo"
   ]
  },
  {
   "cell_type": "code",
   "execution_count": 111,
   "id": "fe15e993",
   "metadata": {},
   "outputs": [],
   "source": [
    "top_ten_features = ['psxview.not_in_ethread_pool_false_avg', 'psxview.not_in_deskthrd', 'psxview.not_in_session_false_avg',\n",
    "                  'psxview.not_in_csrss_handles_false_avg', 'malfind.protection', 'malfind.ninjections', 'malfind.uniqueInjections', \n",
    "                  'malfind.commitCharge','psxview.not_in_deskthrd_false_avg','pslist.nppid', 'Class']"
   ]
  },
  {
   "cell_type": "code",
   "execution_count": 112,
   "id": "0697b9b7",
   "metadata": {},
   "outputs": [],
   "source": [
    "## creating new dataset using a for loop that iterates through the features of the original dataset, find the ones that \n",
    "## match in array of features and then copy the top 10 features to the new dataset. \n",
    "\n",
    "for feature in  top_ten_features: \n",
    "    top_10_features_correlation_analysis[feature] = df[feature]"
   ]
  },
  {
   "cell_type": "code",
   "execution_count": 113,
   "id": "4f0f939b",
   "metadata": {},
   "outputs": [
    {
     "data": {
      "text/html": [
       "<div>\n",
       "<style scoped>\n",
       "    .dataframe tbody tr th:only-of-type {\n",
       "        vertical-align: middle;\n",
       "    }\n",
       "\n",
       "    .dataframe tbody tr th {\n",
       "        vertical-align: top;\n",
       "    }\n",
       "\n",
       "    .dataframe thead th {\n",
       "        text-align: right;\n",
       "    }\n",
       "</style>\n",
       "<table border=\"1\" class=\"dataframe\">\n",
       "  <thead>\n",
       "    <tr style=\"text-align: right;\">\n",
       "      <th></th>\n",
       "      <th>psxview.not_in_ethread_pool_false_avg</th>\n",
       "      <th>psxview.not_in_deskthrd</th>\n",
       "      <th>psxview.not_in_session_false_avg</th>\n",
       "      <th>psxview.not_in_csrss_handles_false_avg</th>\n",
       "      <th>malfind.protection</th>\n",
       "      <th>malfind.ninjections</th>\n",
       "      <th>malfind.uniqueInjections</th>\n",
       "      <th>malfind.commitCharge</th>\n",
       "      <th>psxview.not_in_deskthrd_false_avg</th>\n",
       "      <th>pslist.nppid</th>\n",
       "      <th>Class</th>\n",
       "    </tr>\n",
       "  </thead>\n",
       "  <tbody>\n",
       "    <tr>\n",
       "      <th>0</th>\n",
       "      <td>0.063830</td>\n",
       "      <td>9</td>\n",
       "      <td>0.085106</td>\n",
       "      <td>0.148936</td>\n",
       "      <td>30</td>\n",
       "      <td>5</td>\n",
       "      <td>1.250000</td>\n",
       "      <td>21</td>\n",
       "      <td>0.191489</td>\n",
       "      <td>17</td>\n",
       "      <td>0</td>\n",
       "    </tr>\n",
       "    <tr>\n",
       "      <th>1</th>\n",
       "      <td>0.000000</td>\n",
       "      <td>6</td>\n",
       "      <td>0.042553</td>\n",
       "      <td>0.085106</td>\n",
       "      <td>72</td>\n",
       "      <td>12</td>\n",
       "      <td>1.714286</td>\n",
       "      <td>77</td>\n",
       "      <td>0.127660</td>\n",
       "      <td>19</td>\n",
       "      <td>0</td>\n",
       "    </tr>\n",
       "    <tr>\n",
       "      <th>2</th>\n",
       "      <td>0.000000</td>\n",
       "      <td>5</td>\n",
       "      <td>0.050000</td>\n",
       "      <td>0.100000</td>\n",
       "      <td>30</td>\n",
       "      <td>5</td>\n",
       "      <td>1.250000</td>\n",
       "      <td>6</td>\n",
       "      <td>0.125000</td>\n",
       "      <td>14</td>\n",
       "      <td>0</td>\n",
       "    </tr>\n",
       "    <tr>\n",
       "      <th>3</th>\n",
       "      <td>0.000000</td>\n",
       "      <td>6</td>\n",
       "      <td>0.062500</td>\n",
       "      <td>0.125000</td>\n",
       "      <td>12</td>\n",
       "      <td>2</td>\n",
       "      <td>1.000000</td>\n",
       "      <td>2</td>\n",
       "      <td>0.187500</td>\n",
       "      <td>13</td>\n",
       "      <td>0</td>\n",
       "    </tr>\n",
       "    <tr>\n",
       "      <th>4</th>\n",
       "      <td>0.086957</td>\n",
       "      <td>10</td>\n",
       "      <td>0.130435</td>\n",
       "      <td>0.173913</td>\n",
       "      <td>72</td>\n",
       "      <td>12</td>\n",
       "      <td>2.000000</td>\n",
       "      <td>77</td>\n",
       "      <td>0.217391</td>\n",
       "      <td>16</td>\n",
       "      <td>0</td>\n",
       "    </tr>\n",
       "  </tbody>\n",
       "</table>\n",
       "</div>"
      ],
      "text/plain": [
       "   psxview.not_in_ethread_pool_false_avg  psxview.not_in_deskthrd  \\\n",
       "0                               0.063830                        9   \n",
       "1                               0.000000                        6   \n",
       "2                               0.000000                        5   \n",
       "3                               0.000000                        6   \n",
       "4                               0.086957                       10   \n",
       "\n",
       "   psxview.not_in_session_false_avg  psxview.not_in_csrss_handles_false_avg  \\\n",
       "0                          0.085106                                0.148936   \n",
       "1                          0.042553                                0.085106   \n",
       "2                          0.050000                                0.100000   \n",
       "3                          0.062500                                0.125000   \n",
       "4                          0.130435                                0.173913   \n",
       "\n",
       "   malfind.protection  malfind.ninjections  malfind.uniqueInjections  \\\n",
       "0                  30                    5                  1.250000   \n",
       "1                  72                   12                  1.714286   \n",
       "2                  30                    5                  1.250000   \n",
       "3                  12                    2                  1.000000   \n",
       "4                  72                   12                  2.000000   \n",
       "\n",
       "   malfind.commitCharge  psxview.not_in_deskthrd_false_avg  pslist.nppid  \\\n",
       "0                    21                           0.191489            17   \n",
       "1                    77                           0.127660            19   \n",
       "2                     6                           0.125000            14   \n",
       "3                     2                           0.187500            13   \n",
       "4                    77                           0.217391            16   \n",
       "\n",
       "   Class  \n",
       "0      0  \n",
       "1      0  \n",
       "2      0  \n",
       "3      0  \n",
       "4      0  "
      ]
     },
     "execution_count": 113,
     "metadata": {},
     "output_type": "execute_result"
    }
   ],
   "source": [
    "top_10_features_correlation_analysis.head()"
   ]
  },
  {
   "cell_type": "code",
   "execution_count": 114,
   "id": "6d48d57e",
   "metadata": {},
   "outputs": [],
   "source": [
    "malware_samples_indices = top_10_features_correlation_analysis[top_10_features_correlation_analysis['Class'] == 1].index\n",
    "num_rows_to_delete = int(0.8 * len(malware_samples_indices))\n",
    "rows_to_delete = np.random.choice(malware_samples_indices, size=num_rows_to_delete, replace=False)\n",
    "\n"
   ]
  },
  {
   "cell_type": "code",
   "execution_count": null,
   "id": "c35c5d9a",
   "metadata": {},
   "outputs": [],
   "source": []
  },
  {
   "cell_type": "code",
   "execution_count": 115,
   "id": "48c88d3d",
   "metadata": {},
   "outputs": [],
   "source": [
    "top_10_features_correlation_analysis = top_10_features_correlation_analysis.drop(rows_to_delete)"
   ]
  },
  {
   "cell_type": "code",
   "execution_count": 116,
   "id": "0c2af7dd",
   "metadata": {},
   "outputs": [
    {
     "name": "stdout",
     "output_type": "stream",
     "text": [
      "0    29298\n",
      "1     5860\n",
      "Name: Class, dtype: int64\n"
     ]
    }
   ],
   "source": [
    "print(top_10_features_correlation_analysis['Class'].value_counts())"
   ]
  },
  {
   "cell_type": "markdown",
   "id": "e86f0a8a",
   "metadata": {},
   "source": [
    "# Split Dataset into Training and Test Set"
   ]
  },
  {
   "cell_type": "code",
   "execution_count": 117,
   "id": "708bb3e0",
   "metadata": {},
   "outputs": [],
   "source": [
    "##Split dataset into X and Y values\n",
    "## Because these models are unsupervised, labels are not needed for training \n",
    "# only used for evaluation at the end."
   ]
  },
  {
   "cell_type": "code",
   "execution_count": 118,
   "id": "7ad6834c",
   "metadata": {},
   "outputs": [],
   "source": [
    "X = top_10_features_correlation_analysis.iloc[:,:-1].values\n",
    "y = top_10_features_correlation_analysis.iloc[:,-1].values"
   ]
  },
  {
   "cell_type": "code",
   "execution_count": 119,
   "id": "aa04405d",
   "metadata": {},
   "outputs": [],
   "source": [
    "Xtrain, Xtest, ytrain, ytest = train_test_split(X,y,test_size=0.2, random_state=42)"
   ]
  },
  {
   "cell_type": "code",
   "execution_count": 143,
   "id": "4145f1e2",
   "metadata": {},
   "outputs": [],
   "source": [
    "accuracies = []\n",
    "precisions = []\n",
    "recalls = []\n",
    "f1_scores = [] "
   ]
  },
  {
   "cell_type": "markdown",
   "id": "a405e82f",
   "metadata": {},
   "source": [
    "# Train and Evaluate Isolation Forest Model "
   ]
  },
  {
   "cell_type": "code",
   "execution_count": 120,
   "id": "3a60c3f8",
   "metadata": {},
   "outputs": [
    {
     "data": {
      "text/html": [
       "<style>#sk-container-id-5 {color: black;background-color: white;}#sk-container-id-5 pre{padding: 0;}#sk-container-id-5 div.sk-toggleable {background-color: white;}#sk-container-id-5 label.sk-toggleable__label {cursor: pointer;display: block;width: 100%;margin-bottom: 0;padding: 0.3em;box-sizing: border-box;text-align: center;}#sk-container-id-5 label.sk-toggleable__label-arrow:before {content: \"▸\";float: left;margin-right: 0.25em;color: #696969;}#sk-container-id-5 label.sk-toggleable__label-arrow:hover:before {color: black;}#sk-container-id-5 div.sk-estimator:hover label.sk-toggleable__label-arrow:before {color: black;}#sk-container-id-5 div.sk-toggleable__content {max-height: 0;max-width: 0;overflow: hidden;text-align: left;background-color: #f0f8ff;}#sk-container-id-5 div.sk-toggleable__content pre {margin: 0.2em;color: black;border-radius: 0.25em;background-color: #f0f8ff;}#sk-container-id-5 input.sk-toggleable__control:checked~div.sk-toggleable__content {max-height: 200px;max-width: 100%;overflow: auto;}#sk-container-id-5 input.sk-toggleable__control:checked~label.sk-toggleable__label-arrow:before {content: \"▾\";}#sk-container-id-5 div.sk-estimator input.sk-toggleable__control:checked~label.sk-toggleable__label {background-color: #d4ebff;}#sk-container-id-5 div.sk-label input.sk-toggleable__control:checked~label.sk-toggleable__label {background-color: #d4ebff;}#sk-container-id-5 input.sk-hidden--visually {border: 0;clip: rect(1px 1px 1px 1px);clip: rect(1px, 1px, 1px, 1px);height: 1px;margin: -1px;overflow: hidden;padding: 0;position: absolute;width: 1px;}#sk-container-id-5 div.sk-estimator {font-family: monospace;background-color: #f0f8ff;border: 1px dotted black;border-radius: 0.25em;box-sizing: border-box;margin-bottom: 0.5em;}#sk-container-id-5 div.sk-estimator:hover {background-color: #d4ebff;}#sk-container-id-5 div.sk-parallel-item::after {content: \"\";width: 100%;border-bottom: 1px solid gray;flex-grow: 1;}#sk-container-id-5 div.sk-label:hover label.sk-toggleable__label {background-color: #d4ebff;}#sk-container-id-5 div.sk-serial::before {content: \"\";position: absolute;border-left: 1px solid gray;box-sizing: border-box;top: 0;bottom: 0;left: 50%;z-index: 0;}#sk-container-id-5 div.sk-serial {display: flex;flex-direction: column;align-items: center;background-color: white;padding-right: 0.2em;padding-left: 0.2em;position: relative;}#sk-container-id-5 div.sk-item {position: relative;z-index: 1;}#sk-container-id-5 div.sk-parallel {display: flex;align-items: stretch;justify-content: center;background-color: white;position: relative;}#sk-container-id-5 div.sk-item::before, #sk-container-id-5 div.sk-parallel-item::before {content: \"\";position: absolute;border-left: 1px solid gray;box-sizing: border-box;top: 0;bottom: 0;left: 50%;z-index: -1;}#sk-container-id-5 div.sk-parallel-item {display: flex;flex-direction: column;z-index: 1;position: relative;background-color: white;}#sk-container-id-5 div.sk-parallel-item:first-child::after {align-self: flex-end;width: 50%;}#sk-container-id-5 div.sk-parallel-item:last-child::after {align-self: flex-start;width: 50%;}#sk-container-id-5 div.sk-parallel-item:only-child::after {width: 0;}#sk-container-id-5 div.sk-dashed-wrapped {border: 1px dashed gray;margin: 0 0.4em 0.5em 0.4em;box-sizing: border-box;padding-bottom: 0.4em;background-color: white;}#sk-container-id-5 div.sk-label label {font-family: monospace;font-weight: bold;display: inline-block;line-height: 1.2em;}#sk-container-id-5 div.sk-label-container {text-align: center;}#sk-container-id-5 div.sk-container {/* jupyter's `normalize.less` sets `[hidden] { display: none; }` but bootstrap.min.css set `[hidden] { display: none !important; }` so we also need the `!important` here to be able to override the default hidden behavior on the sphinx rendered scikit-learn.org. See: https://github.com/scikit-learn/scikit-learn/issues/21755 */display: inline-block !important;position: relative;}#sk-container-id-5 div.sk-text-repr-fallback {display: none;}</style><div id=\"sk-container-id-5\" class=\"sk-top-container\"><div class=\"sk-text-repr-fallback\"><pre>IsolationForest(bootstrap=True, contamination=0.2, max_samples=100,\n",
       "                n_estimators=200)</pre><b>In a Jupyter environment, please rerun this cell to show the HTML representation or trust the notebook. <br />On GitHub, the HTML representation is unable to render, please try loading this page with nbviewer.org.</b></div><div class=\"sk-container\" hidden><div class=\"sk-item\"><div class=\"sk-estimator sk-toggleable\"><input class=\"sk-toggleable__control sk-hidden--visually\" id=\"sk-estimator-id-5\" type=\"checkbox\" checked><label for=\"sk-estimator-id-5\" class=\"sk-toggleable__label sk-toggleable__label-arrow\">IsolationForest</label><div class=\"sk-toggleable__content\"><pre>IsolationForest(bootstrap=True, contamination=0.2, max_samples=100,\n",
       "                n_estimators=200)</pre></div></div></div></div></div>"
      ],
      "text/plain": [
       "IsolationForest(bootstrap=True, contamination=0.2, max_samples=100,\n",
       "                n_estimators=200)"
      ]
     },
     "execution_count": 120,
     "metadata": {},
     "output_type": "execute_result"
    }
   ],
   "source": [
    "## isolation forest \n",
    "Isolation_Forest_model=IsolationForest(max_samples= 100, n_estimators= 200, contamination=0.2, bootstrap = True)\n",
    "Isolation_Forest_model.fit(Xtrain)"
   ]
  },
  {
   "cell_type": "code",
   "execution_count": 121,
   "id": "fa9b5300",
   "metadata": {},
   "outputs": [
    {
     "name": "stdout",
     "output_type": "stream",
     "text": [
      "[1 1 1 ... 1 1 1]\n"
     ]
    }
   ],
   "source": [
    "predictions = Isolation_Forest_model.predict(Xtest)\n",
    "print(predictions)\n"
   ]
  },
  {
   "cell_type": "code",
   "execution_count": 122,
   "id": "eed01aa1",
   "metadata": {},
   "outputs": [
    {
     "name": "stdout",
     "output_type": "stream",
     "text": [
      " 1    5634\n",
      "-1    1398\n",
      "dtype: int64\n"
     ]
    }
   ],
   "source": [
    "print(pd.value_counts(predictions))"
   ]
  },
  {
   "cell_type": "code",
   "execution_count": 123,
   "id": "cb899087",
   "metadata": {},
   "outputs": [],
   "source": [
    "## map the predictions to 0 and 1 from -1 and 1\n",
    "## map anomalies to 1 and normal instances to 0"
   ]
  },
  {
   "cell_type": "code",
   "execution_count": 124,
   "id": "44059204",
   "metadata": {},
   "outputs": [],
   "source": [
    "predictions[predictions== 1] = 0\n",
    "predictions[predictions== -1] = 1"
   ]
  },
  {
   "cell_type": "code",
   "execution_count": 125,
   "id": "f5cb30d5",
   "metadata": {},
   "outputs": [
    {
     "name": "stdout",
     "output_type": "stream",
     "text": [
      "0    5634\n",
      "1    1398\n",
      "dtype: int64\n"
     ]
    }
   ],
   "source": [
    "print(pd.value_counts(predictions))"
   ]
  },
  {
   "cell_type": "code",
   "execution_count": 126,
   "id": "73bf3972",
   "metadata": {},
   "outputs": [],
   "source": [
    "## start evaluation. \n",
    "## Classification Report\n",
    "## confusion Matrix "
   ]
  },
  {
   "cell_type": "code",
   "execution_count": 127,
   "id": "b4615010",
   "metadata": {},
   "outputs": [
    {
     "name": "stdout",
     "output_type": "stream",
     "text": [
      "              precision    recall  f1-score   support\n",
      "\n",
      "           0       0.80      0.84      0.82      5634\n",
      "           1       0.21      0.18      0.19      1398\n",
      "\n",
      "    accuracy                           0.71      7032\n",
      "   macro avg       0.51      0.51      0.51      7032\n",
      "weighted avg       0.69      0.71      0.69      7032\n",
      "\n"
     ]
    }
   ],
   "source": [
    "Isolation_forest_classification_report = classification_report(predictions, ytest)\n",
    "print(Isolation_forest_classification_report)"
   ]
  },
  {
   "cell_type": "code",
   "execution_count": 128,
   "id": "bbb9decf",
   "metadata": {},
   "outputs": [
    {
     "data": {
      "text/plain": [
       "<Axes: >"
      ]
     },
     "execution_count": 128,
     "metadata": {},
     "output_type": "execute_result"
    },
    {
     "data": {
      "image/png": "[encoded data removed]",
      "text/plain": [
       "<Figure size 640x480 with 2 Axes>"
      ]
     },
     "metadata": {},
     "output_type": "display_data"
    }
   ],
   "source": [
    "Isolation_forest_confusion_matrix = confusion_matrix(predictions, ytest)\n",
    "sns.heatmap(Isolation_forest_confusion_matrix, fmt='2', annot=True)"
   ]
  },
  {
   "cell_type": "code",
   "execution_count": 145,
   "id": "a296674c",
   "metadata": {},
   "outputs": [
    {
     "name": "stdout",
     "output_type": "stream",
     "text": [
      "0.7052047781569966\n",
      "0.21129170230966637\n",
      "0.17668097281831188\n",
      "0.19244253992987922\n"
     ]
    }
   ],
   "source": [
    "Isolation_forest_accuracy = accuracy_score(predictions, ytest)\n",
    "Isolation_forest_precision = precision_score(predictions, ytest)\n",
    "Isolation_forest_recall = recall_score(predictions, ytest)\n",
    "Isolation_forest_f1_score = f1_score(predictions, ytest)\n",
    "\n",
    "print(Isolation_forest_accuracy)\n",
    "print(Isolation_forest_precision)\n",
    "print(Isolation_forest_recall)\n",
    "print(Isolation_forest_f1_score)"
   ]
  },
  {
   "cell_type": "code",
   "execution_count": 146,
   "id": "30be2a7c",
   "metadata": {},
   "outputs": [],
   "source": [
    "accuracies.append(Isolation_forest_accuracy)\n",
    "precisions.append(Isolation_forest_precision)\n",
    "recalls.append(Isolation_forest_recall)\n",
    "f1_scores.append(Isolation_forest_f1_score)"
   ]
  },
  {
   "cell_type": "markdown",
   "id": "7405649f",
   "metadata": {},
   "source": [
    "# Train and test Local Outlier Factor Model "
   ]
  },
  {
   "cell_type": "code",
   "execution_count": 130,
   "id": "49194f46",
   "metadata": {},
   "outputs": [
    {
     "data": {
      "text/html": [
       "<style>#sk-container-id-6 {color: black;background-color: white;}#sk-container-id-6 pre{padding: 0;}#sk-container-id-6 div.sk-toggleable {background-color: white;}#sk-container-id-6 label.sk-toggleable__label {cursor: pointer;display: block;width: 100%;margin-bottom: 0;padding: 0.3em;box-sizing: border-box;text-align: center;}#sk-container-id-6 label.sk-toggleable__label-arrow:before {content: \"▸\";float: left;margin-right: 0.25em;color: #696969;}#sk-container-id-6 label.sk-toggleable__label-arrow:hover:before {color: black;}#sk-container-id-6 div.sk-estimator:hover label.sk-toggleable__label-arrow:before {color: black;}#sk-container-id-6 div.sk-toggleable__content {max-height: 0;max-width: 0;overflow: hidden;text-align: left;background-color: #f0f8ff;}#sk-container-id-6 div.sk-toggleable__content pre {margin: 0.2em;color: black;border-radius: 0.25em;background-color: #f0f8ff;}#sk-container-id-6 input.sk-toggleable__control:checked~div.sk-toggleable__content {max-height: 200px;max-width: 100%;overflow: auto;}#sk-container-id-6 input.sk-toggleable__control:checked~label.sk-toggleable__label-arrow:before {content: \"▾\";}#sk-container-id-6 div.sk-estimator input.sk-toggleable__control:checked~label.sk-toggleable__label {background-color: #d4ebff;}#sk-container-id-6 div.sk-label input.sk-toggleable__control:checked~label.sk-toggleable__label {background-color: #d4ebff;}#sk-container-id-6 input.sk-hidden--visually {border: 0;clip: rect(1px 1px 1px 1px);clip: rect(1px, 1px, 1px, 1px);height: 1px;margin: -1px;overflow: hidden;padding: 0;position: absolute;width: 1px;}#sk-container-id-6 div.sk-estimator {font-family: monospace;background-color: #f0f8ff;border: 1px dotted black;border-radius: 0.25em;box-sizing: border-box;margin-bottom: 0.5em;}#sk-container-id-6 div.sk-estimator:hover {background-color: #d4ebff;}#sk-container-id-6 div.sk-parallel-item::after {content: \"\";width: 100%;border-bottom: 1px solid gray;flex-grow: 1;}#sk-container-id-6 div.sk-label:hover label.sk-toggleable__label {background-color: #d4ebff;}#sk-container-id-6 div.sk-serial::before {content: \"\";position: absolute;border-left: 1px solid gray;box-sizing: border-box;top: 0;bottom: 0;left: 50%;z-index: 0;}#sk-container-id-6 div.sk-serial {display: flex;flex-direction: column;align-items: center;background-color: white;padding-right: 0.2em;padding-left: 0.2em;position: relative;}#sk-container-id-6 div.sk-item {position: relative;z-index: 1;}#sk-container-id-6 div.sk-parallel {display: flex;align-items: stretch;justify-content: center;background-color: white;position: relative;}#sk-container-id-6 div.sk-item::before, #sk-container-id-6 div.sk-parallel-item::before {content: \"\";position: absolute;border-left: 1px solid gray;box-sizing: border-box;top: 0;bottom: 0;left: 50%;z-index: -1;}#sk-container-id-6 div.sk-parallel-item {display: flex;flex-direction: column;z-index: 1;position: relative;background-color: white;}#sk-container-id-6 div.sk-parallel-item:first-child::after {align-self: flex-end;width: 50%;}#sk-container-id-6 div.sk-parallel-item:last-child::after {align-self: flex-start;width: 50%;}#sk-container-id-6 div.sk-parallel-item:only-child::after {width: 0;}#sk-container-id-6 div.sk-dashed-wrapped {border: 1px dashed gray;margin: 0 0.4em 0.5em 0.4em;box-sizing: border-box;padding-bottom: 0.4em;background-color: white;}#sk-container-id-6 div.sk-label label {font-family: monospace;font-weight: bold;display: inline-block;line-height: 1.2em;}#sk-container-id-6 div.sk-label-container {text-align: center;}#sk-container-id-6 div.sk-container {/* jupyter's `normalize.less` sets `[hidden] { display: none; }` but bootstrap.min.css set `[hidden] { display: none !important; }` so we also need the `!important` here to be able to override the default hidden behavior on the sphinx rendered scikit-learn.org. See: https://github.com/scikit-learn/scikit-learn/issues/21755 */display: inline-block !important;position: relative;}#sk-container-id-6 div.sk-text-repr-fallback {display: none;}</style><div id=\"sk-container-id-6\" class=\"sk-top-container\"><div class=\"sk-text-repr-fallback\"><pre>LocalOutlierFactor(contamination=0.2, n_neighbors=100, novelty=True)</pre><b>In a Jupyter environment, please rerun this cell to show the HTML representation or trust the notebook. <br />On GitHub, the HTML representation is unable to render, please try loading this page with nbviewer.org.</b></div><div class=\"sk-container\" hidden><div class=\"sk-item\"><div class=\"sk-estimator sk-toggleable\"><input class=\"sk-toggleable__control sk-hidden--visually\" id=\"sk-estimator-id-6\" type=\"checkbox\" checked><label for=\"sk-estimator-id-6\" class=\"sk-toggleable__label sk-toggleable__label-arrow\">LocalOutlierFactor</label><div class=\"sk-toggleable__content\"><pre>LocalOutlierFactor(contamination=0.2, n_neighbors=100, novelty=True)</pre></div></div></div></div></div>"
      ],
      "text/plain": [
       "LocalOutlierFactor(contamination=0.2, n_neighbors=100, novelty=True)"
      ]
     },
     "execution_count": 130,
     "metadata": {},
     "output_type": "execute_result"
    }
   ],
   "source": [
    "## Local Outlier Factor \n",
    "Local_outlier_factor = LocalOutlierFactor(n_neighbors = 100, algorithm='auto', contamination=0.2, novelty=True)\n",
    "Local_outlier_factor.fit(Xtrain)\n"
   ]
  },
  {
   "cell_type": "code",
   "execution_count": 131,
   "id": "ed7f15c0",
   "metadata": {},
   "outputs": [],
   "source": [
    "LOF_predictions = Local_outlier_factor.predict(Xtest)"
   ]
  },
  {
   "cell_type": "code",
   "execution_count": 132,
   "id": "8fb6dc97",
   "metadata": {},
   "outputs": [
    {
     "name": "stdout",
     "output_type": "stream",
     "text": [
      "0    5626\n",
      "1    1406\n",
      "dtype: int64\n"
     ]
    }
   ],
   "source": [
    "LOF_predictions[LOF_predictions== 1] = 0\n",
    "LOF_predictions[LOF_predictions== -1] = 1\n",
    "\n",
    "print(pd.value_counts(LOF_predictions))"
   ]
  },
  {
   "cell_type": "code",
   "execution_count": 133,
   "id": "54dda497",
   "metadata": {},
   "outputs": [
    {
     "name": "stdout",
     "output_type": "stream",
     "text": [
      "              precision    recall  f1-score   support\n",
      "\n",
      "           0       0.81      0.85      0.83      5626\n",
      "           1       0.26      0.22      0.24      1406\n",
      "\n",
      "    accuracy                           0.72      7032\n",
      "   macro avg       0.54      0.53      0.53      7032\n",
      "weighted avg       0.70      0.72      0.71      7032\n",
      "\n"
     ]
    }
   ],
   "source": [
    "LOF_classification_report = classification_report(LOF_predictions, ytest)\n",
    "print(LOF_classification_report)"
   ]
  },
  {
   "cell_type": "code",
   "execution_count": 134,
   "id": "020ed324",
   "metadata": {},
   "outputs": [
    {
     "data": {
      "text/plain": [
       "<Axes: >"
      ]
     },
     "execution_count": 134,
     "metadata": {},
     "output_type": "execute_result"
    },
    {
     "data": {
      "image/png": "[encoded data removed]",
      "text/plain": [
       "<Figure size 640x480 with 2 Axes>"
      ]
     },
     "metadata": {},
     "output_type": "display_data"
    }
   ],
   "source": [
    "LOF_confusion_matrix = confusion_matrix(LOF_predictions, ytest)\n",
    "sns.heatmap(LOF_confusion_matrix, fmt='2', annot=True)"
   ]
  },
  {
   "cell_type": "code",
   "execution_count": 147,
   "id": "cfd83509",
   "metadata": {},
   "outputs": [
    {
     "name": "stdout",
     "output_type": "stream",
     "text": [
      "0.7214163822525598\n",
      "0.2634730538922156\n",
      "0.21906116642958748\n",
      "0.2392233009708738\n"
     ]
    }
   ],
   "source": [
    "LOF_accuracy = accuracy_score(LOF_predictions, ytest)\n",
    "LOF_precision = precision_score(LOF_predictions, ytest)\n",
    "LOF_recall = recall_score(LOF_predictions, ytest)\n",
    "LOF_f1_score = f1_score(LOF_predictions, ytest)\n",
    "\n",
    "print(LOF_accuracy)\n",
    "print(LOF_precision)\n",
    "print(LOF_recall)\n",
    "print(LOF_f1_score)"
   ]
  },
  {
   "cell_type": "code",
   "execution_count": 148,
   "id": "1601453d",
   "metadata": {},
   "outputs": [],
   "source": [
    "accuracies.append(LOF_accuracy)\n",
    "precisions.append(LOF_precision)\n",
    "recalls.append(LOF_recall)\n",
    "f1_scores.append(LOF_f1_score)"
   ]
  },
  {
   "cell_type": "markdown",
   "id": "b55e237d",
   "metadata": {},
   "source": [
    "# Train and Evaluate One Class SVM Model"
   ]
  },
  {
   "cell_type": "code",
   "execution_count": 137,
   "id": "5c8283a9",
   "metadata": {},
   "outputs": [
    {
     "data": {
      "text/html": [
       "<style>#sk-container-id-7 {color: black;background-color: white;}#sk-container-id-7 pre{padding: 0;}#sk-container-id-7 div.sk-toggleable {background-color: white;}#sk-container-id-7 label.sk-toggleable__label {cursor: pointer;display: block;width: 100%;margin-bottom: 0;padding: 0.3em;box-sizing: border-box;text-align: center;}#sk-container-id-7 label.sk-toggleable__label-arrow:before {content: \"▸\";float: left;margin-right: 0.25em;color: #696969;}#sk-container-id-7 label.sk-toggleable__label-arrow:hover:before {color: black;}#sk-container-id-7 div.sk-estimator:hover label.sk-toggleable__label-arrow:before {color: black;}#sk-container-id-7 div.sk-toggleable__content {max-height: 0;max-width: 0;overflow: hidden;text-align: left;background-color: #f0f8ff;}#sk-container-id-7 div.sk-toggleable__content pre {margin: 0.2em;color: black;border-radius: 0.25em;background-color: #f0f8ff;}#sk-container-id-7 input.sk-toggleable__control:checked~div.sk-toggleable__content {max-height: 200px;max-width: 100%;overflow: auto;}#sk-container-id-7 input.sk-toggleable__control:checked~label.sk-toggleable__label-arrow:before {content: \"▾\";}#sk-container-id-7 div.sk-estimator input.sk-toggleable__control:checked~label.sk-toggleable__label {background-color: #d4ebff;}#sk-container-id-7 div.sk-label input.sk-toggleable__control:checked~label.sk-toggleable__label {background-color: #d4ebff;}#sk-container-id-7 input.sk-hidden--visually {border: 0;clip: rect(1px 1px 1px 1px);clip: rect(1px, 1px, 1px, 1px);height: 1px;margin: -1px;overflow: hidden;padding: 0;position: absolute;width: 1px;}#sk-container-id-7 div.sk-estimator {font-family: monospace;background-color: #f0f8ff;border: 1px dotted black;border-radius: 0.25em;box-sizing: border-box;margin-bottom: 0.5em;}#sk-container-id-7 div.sk-estimator:hover {background-color: #d4ebff;}#sk-container-id-7 div.sk-parallel-item::after {content: \"\";width: 100%;border-bottom: 1px solid gray;flex-grow: 1;}#sk-container-id-7 div.sk-label:hover label.sk-toggleable__label {background-color: #d4ebff;}#sk-container-id-7 div.sk-serial::before {content: \"\";position: absolute;border-left: 1px solid gray;box-sizing: border-box;top: 0;bottom: 0;left: 50%;z-index: 0;}#sk-container-id-7 div.sk-serial {display: flex;flex-direction: column;align-items: center;background-color: white;padding-right: 0.2em;padding-left: 0.2em;position: relative;}#sk-container-id-7 div.sk-item {position: relative;z-index: 1;}#sk-container-id-7 div.sk-parallel {display: flex;align-items: stretch;justify-content: center;background-color: white;position: relative;}#sk-container-id-7 div.sk-item::before, #sk-container-id-7 div.sk-parallel-item::before {content: \"\";position: absolute;border-left: 1px solid gray;box-sizing: border-box;top: 0;bottom: 0;left: 50%;z-index: -1;}#sk-container-id-7 div.sk-parallel-item {display: flex;flex-direction: column;z-index: 1;position: relative;background-color: white;}#sk-container-id-7 div.sk-parallel-item:first-child::after {align-self: flex-end;width: 50%;}#sk-container-id-7 div.sk-parallel-item:last-child::after {align-self: flex-start;width: 50%;}#sk-container-id-7 div.sk-parallel-item:only-child::after {width: 0;}#sk-container-id-7 div.sk-dashed-wrapped {border: 1px dashed gray;margin: 0 0.4em 0.5em 0.4em;box-sizing: border-box;padding-bottom: 0.4em;background-color: white;}#sk-container-id-7 div.sk-label label {font-family: monospace;font-weight: bold;display: inline-block;line-height: 1.2em;}#sk-container-id-7 div.sk-label-container {text-align: center;}#sk-container-id-7 div.sk-container {/* jupyter's `normalize.less` sets `[hidden] { display: none; }` but bootstrap.min.css set `[hidden] { display: none !important; }` so we also need the `!important` here to be able to override the default hidden behavior on the sphinx rendered scikit-learn.org. See: https://github.com/scikit-learn/scikit-learn/issues/21755 */display: inline-block !important;position: relative;}#sk-container-id-7 div.sk-text-repr-fallback {display: none;}</style><div id=\"sk-container-id-7\" class=\"sk-top-container\"><div class=\"sk-text-repr-fallback\"><pre>OneClassSVM()</pre><b>In a Jupyter environment, please rerun this cell to show the HTML representation or trust the notebook. <br />On GitHub, the HTML representation is unable to render, please try loading this page with nbviewer.org.</b></div><div class=\"sk-container\" hidden><div class=\"sk-item\"><div class=\"sk-estimator sk-toggleable\"><input class=\"sk-toggleable__control sk-hidden--visually\" id=\"sk-estimator-id-7\" type=\"checkbox\" checked><label for=\"sk-estimator-id-7\" class=\"sk-toggleable__label sk-toggleable__label-arrow\">OneClassSVM</label><div class=\"sk-toggleable__content\"><pre>OneClassSVM()</pre></div></div></div></div></div>"
      ],
      "text/plain": [
       "OneClassSVM()"
      ]
     },
     "execution_count": 137,
     "metadata": {},
     "output_type": "execute_result"
    }
   ],
   "source": [
    "one_class_svm = OneClassSVM()\n",
    "one_class_svm.fit(Xtrain)\n"
   ]
  },
  {
   "cell_type": "code",
   "execution_count": 138,
   "id": "9a7601a7",
   "metadata": {},
   "outputs": [],
   "source": [
    "one_class_svm_predictions=one_class_svm.predict(Xtest)"
   ]
  },
  {
   "cell_type": "code",
   "execution_count": 139,
   "id": "6cc101f1",
   "metadata": {},
   "outputs": [
    {
     "name": "stdout",
     "output_type": "stream",
     "text": [
      "0    3549\n",
      "1    3483\n",
      "dtype: int64\n"
     ]
    }
   ],
   "source": [
    "one_class_svm_predictions[one_class_svm_predictions== 1] = 0\n",
    "one_class_svm_predictions[one_class_svm_predictions== -1] = 1\n",
    "\n",
    "print(pd.value_counts(one_class_svm_predictions))"
   ]
  },
  {
   "cell_type": "code",
   "execution_count": 140,
   "id": "8630310b",
   "metadata": {},
   "outputs": [
    {
     "name": "stdout",
     "output_type": "stream",
     "text": [
      "              precision    recall  f1-score   support\n",
      "\n",
      "           0       0.59      0.97      0.73      3549\n",
      "           1       0.92      0.31      0.46      3483\n",
      "\n",
      "    accuracy                           0.64      7032\n",
      "   macro avg       0.75      0.64      0.60      7032\n",
      "weighted avg       0.75      0.64      0.60      7032\n",
      "\n"
     ]
    }
   ],
   "source": [
    "SVM_classification_report = classification_report(one_class_svm_predictions, ytest)\n",
    "print(SVM_classification_report)"
   ]
  },
  {
   "cell_type": "code",
   "execution_count": 141,
   "id": "2fc963f1",
   "metadata": {},
   "outputs": [
    {
     "data": {
      "text/plain": [
       "<Axes: >"
      ]
     },
     "execution_count": 141,
     "metadata": {},
     "output_type": "execute_result"
    },
    {
     "data": {
      "image/png": "[encoded data removed]",
      "text/plain": [
       "<Figure size 640x480 with 2 Axes>"
      ]
     },
     "metadata": {},
     "output_type": "display_data"
    }
   ],
   "source": [
    "SVM_confusion_matrix = confusion_matrix(one_class_svm_predictions, ytest)\n",
    "sns.heatmap(SVM_confusion_matrix, fmt='2', annot=True)"
   ]
  },
  {
   "cell_type": "code",
   "execution_count": 149,
   "id": "06cbd4f7",
   "metadata": {},
   "outputs": [
    {
     "name": "stdout",
     "output_type": "stream",
     "text": [
      "0.6444823663253697\n",
      "0.9204448246364414\n",
      "0.30892908412288256\n",
      "0.4625967325881341\n"
     ]
    }
   ],
   "source": [
    "OC_SVM_accuracy = accuracy_score(one_class_svm_predictions, ytest)\n",
    "OC_SVM_precision = precision_score(one_class_svm_predictions, ytest)\n",
    "OC_SVM_recall = recall_score(one_class_svm_predictions, ytest)\n",
    "OC_SVM_f1_score = f1_score(one_class_svm_predictions, ytest)\n",
    "\n",
    "print(OC_SVM_accuracy)\n",
    "print(OC_SVM_precision)\n",
    "print(OC_SVM_recall)\n",
    "print(OC_SVM_f1_score)"
   ]
  },
  {
   "cell_type": "code",
   "execution_count": 150,
   "id": "858419a8",
   "metadata": {},
   "outputs": [],
   "source": [
    "accuracies.append(OC_SVM_accuracy)\n",
    "precisions.append(OC_SVM_precision)\n",
    "recalls.append(OC_SVM_recall)\n",
    "f1_scores.append(OC_SVM_f1_score)"
   ]
  },
  {
   "cell_type": "markdown",
   "id": "bfffd04a",
   "metadata": {},
   "source": [
    "# Evaluation Table"
   ]
  },
  {
   "cell_type": "code",
   "execution_count": null,
   "id": "363ce028",
   "metadata": {},
   "outputs": [],
   "source": [
    "## All models have been trained and evaluated, now the final evaluation table will be generated"
   ]
  },
  {
   "cell_type": "code",
   "execution_count": 151,
   "id": "0fd2c9a0",
   "metadata": {},
   "outputs": [],
   "source": [
    "Evaluation_Table = pd.DataFrame(columns=['Accuracy', 'Precision', 'Recall', 'F1-Score'])\n",
    "\n",
    "\n",
    "Evaluation_Table = pd.concat([Evaluation_Table, pd.DataFrame({\n",
    "    \"Accuracy\": accuracies,\n",
    "    \"Precision\": precisions,\n",
    "    \"Recall\": recalls,\n",
    "    \"F1-Score\": f1_scores\n",
    "})], ignore_index=True)\n",
    "\n",
    "Evaluation_Table.index = ['Isolation Forest', 'Local Outlier Factor', 'One Class SVM']\n",
    "Evaluation_Table.index.names = ['Models']"
   ]
  },
  {
   "cell_type": "code",
   "execution_count": 152,
   "id": "deacef88",
   "metadata": {},
   "outputs": [
    {
     "data": {
      "text/html": [
       "<div>\n",
       "<style scoped>\n",
       "    .dataframe tbody tr th:only-of-type {\n",
       "        vertical-align: middle;\n",
       "    }\n",
       "\n",
       "    .dataframe tbody tr th {\n",
       "        vertical-align: top;\n",
       "    }\n",
       "\n",
       "    .dataframe thead th {\n",
       "        text-align: right;\n",
       "    }\n",
       "</style>\n",
       "<table border=\"1\" class=\"dataframe\">\n",
       "  <thead>\n",
       "    <tr style=\"text-align: right;\">\n",
       "      <th></th>\n",
       "      <th>Accuracy</th>\n",
       "      <th>Precision</th>\n",
       "      <th>Recall</th>\n",
       "      <th>F1-Score</th>\n",
       "    </tr>\n",
       "    <tr>\n",
       "      <th>Models</th>\n",
       "      <th></th>\n",
       "      <th></th>\n",
       "      <th></th>\n",
       "      <th></th>\n",
       "    </tr>\n",
       "  </thead>\n",
       "  <tbody>\n",
       "    <tr>\n",
       "      <th>Isolation Forest</th>\n",
       "      <td>0.705205</td>\n",
       "      <td>0.211292</td>\n",
       "      <td>0.176681</td>\n",
       "      <td>0.192443</td>\n",
       "    </tr>\n",
       "    <tr>\n",
       "      <th>Local Outlier Factor</th>\n",
       "      <td>0.721416</td>\n",
       "      <td>0.263473</td>\n",
       "      <td>0.219061</td>\n",
       "      <td>0.239223</td>\n",
       "    </tr>\n",
       "    <tr>\n",
       "      <th>One Class SVM</th>\n",
       "      <td>0.644482</td>\n",
       "      <td>0.920445</td>\n",
       "      <td>0.308929</td>\n",
       "      <td>0.462597</td>\n",
       "    </tr>\n",
       "  </tbody>\n",
       "</table>\n",
       "</div>"
      ],
      "text/plain": [
       "                      Accuracy  Precision    Recall  F1-Score\n",
       "Models                                                       \n",
       "Isolation Forest      0.705205   0.211292  0.176681  0.192443\n",
       "Local Outlier Factor  0.721416   0.263473  0.219061  0.239223\n",
       "One Class SVM         0.644482   0.920445  0.308929  0.462597"
      ]
     },
     "execution_count": 152,
     "metadata": {},
     "output_type": "execute_result"
    }
   ],
   "source": [
    "Evaluation_Table"
   ]
  },
  {
   "cell_type": "code",
   "execution_count": null,
   "id": "ba22a0ce",
   "metadata": {},
   "outputs": [],
   "source": []
  }
 ],
 "metadata": {
  "kernelspec": {
   "display_name": "Python 3 (ipykernel)",
   "language": "python",
   "name": "python3"
  },
  "language_info": {
   "codemirror_mode": {
    "name": "ipython",
    "version": 3
   },
   "file_extension": ".py",
   "mimetype": "text/x-python",
   "name": "python",
   "nbconvert_exporter": "python",
   "pygments_lexer": "ipython3",
   "version": "3.10.9"
  }
 },
 "nbformat": 4,
 "nbformat_minor": 5
}
